{
 "cells": [
  {
   "cell_type": "code",
   "execution_count": 10,
   "id": "3821094c-564f-4164-ac7d-ede9dbec0609",
   "metadata": {
    "execution": {
     "iopub.execute_input": "2021-12-01T20:11:13.912438Z",
     "iopub.status.busy": "2021-12-01T20:11:13.911811Z",
     "iopub.status.idle": "2021-12-01T20:11:13.916495Z",
     "shell.execute_reply": "2021-12-01T20:11:13.915750Z",
     "shell.execute_reply.started": "2021-12-01T20:11:13.912414Z"
    },
    "tags": []
   },
   "outputs": [],
   "source": [
    "try:\n",
    "    from lxml import etree\n",
    "    from bs4 import BeautifulSoup\n",
    "    import requests\n",
    "except ModuleNotFoundError:\n",
    "    !pip install -r requirements.txt --quiet\n",
    "    from lxml import etree\n",
    "    from bs4 import BeautifulSoup\n",
    "    import requests"
   ]
  },
  {
   "cell_type": "code",
   "execution_count": 11,
   "id": "f86aa6e8-86da-4d79-9e11-4a7c660265bb",
   "metadata": {
    "execution": {
     "iopub.execute_input": "2021-12-01T20:11:15.046720Z",
     "iopub.status.busy": "2021-12-01T20:11:15.046471Z",
     "iopub.status.idle": "2021-12-01T20:11:15.053558Z",
     "shell.execute_reply": "2021-12-01T20:11:15.052185Z",
     "shell.execute_reply.started": "2021-12-01T20:11:15.046693Z"
    },
    "tags": []
   },
   "outputs": [],
   "source": [
    "with open(\"exemplo_site.html\") as file:\n",
    "    string_site = file.read()"
   ]
  },
  {
   "cell_type": "code",
   "execution_count": 12,
   "id": "5655ab31-9043-4491-9c37-7720c24c838c",
   "metadata": {
    "execution": {
     "iopub.execute_input": "2021-12-01T20:11:15.451305Z",
     "iopub.status.busy": "2021-12-01T20:11:15.450888Z",
     "iopub.status.idle": "2021-12-01T20:11:15.456756Z",
     "shell.execute_reply": "2021-12-01T20:11:15.455594Z",
     "shell.execute_reply.started": "2021-12-01T20:11:15.451280Z"
    },
    "tags": []
   },
   "outputs": [
    {
     "name": "stdout",
     "output_type": "stream",
     "text": [
      "<html lang=\"pt-br\">\n",
      "<head>\n",
      "    <meta charset=\"UTF-8\">\n",
      "    <title>Título da página</title>\n",
      "</head>\n",
      "<body>\n",
      "    <h1 class=\"h1\">Sou um H1</h1>\n",
      "    <p class=\"paragrafo\">Parágrafo 01</p>\n",
      "    <p class=\"paragrafo\">Parágrafo 02</p>\n",
      "    <div class=\"classe01\">\n",
      "        <h1>Sou um H1 dentro da div</h1>\n",
      "        <p id=\"p3\">Parágrafo 03 dentro da div</p>\n",
      "        <p>Parágrafo 04 dentro da div</p>\n",
      "    </div>\n",
      "    <a class=\"link\" id='intro' href=\"https://www.w3schools.com/html/html_intro.asp\">Link 01 fora da DIV, html_intro</a>\n",
      "    <br>\n",
      "    <br>\n",
      "    <a class=\"link\" id='basic' href=\"https://www.w3schools.com/html/html_basic.asp\">Link 02 fora da DIV, html_basic</a>\n",
      "</body>\n",
      "</html>\n"
     ]
    }
   ],
   "source": [
    "print(string_site)"
   ]
  },
  {
   "cell_type": "markdown",
   "id": "85d4c553-9c20-4070-a554-7774241f79e1",
   "metadata": {
    "tags": []
   },
   "source": [
    "## BeautifulSoup"
   ]
  },
  {
   "cell_type": "code",
   "execution_count": 4,
   "id": "29336052",
   "metadata": {
    "execution": {
     "iopub.execute_input": "2021-12-01T19:51:07.439830Z",
     "iopub.status.busy": "2021-12-01T19:51:07.439381Z",
     "iopub.status.idle": "2021-12-01T19:51:07.445451Z",
     "shell.execute_reply": "2021-12-01T19:51:07.444443Z",
     "shell.execute_reply.started": "2021-12-01T19:51:07.439803Z"
    },
    "tags": []
   },
   "outputs": [],
   "source": [
    "soup = BeautifulSoup(string_site, 'html.parser')"
   ]
  },
  {
   "cell_type": "code",
   "execution_count": 5,
   "id": "fce511db",
   "metadata": {
    "execution": {
     "iopub.execute_input": "2021-12-01T19:51:08.213865Z",
     "iopub.status.busy": "2021-12-01T19:51:08.213271Z",
     "iopub.status.idle": "2021-12-01T19:51:08.223903Z",
     "shell.execute_reply": "2021-12-01T19:51:08.222885Z",
     "shell.execute_reply.started": "2021-12-01T19:51:08.213829Z"
    },
    "tags": []
   },
   "outputs": [
    {
     "data": {
      "text/plain": [
       "[<p class=\"paragrafo\">Parágrafo 01</p>,\n",
       " <p class=\"paragrafo\">Parágrafo 02</p>,\n",
       " <p id=\"p3\">Parágrafo 03 dentro da div</p>,\n",
       " <p>Parágrafo 04 dentro da div</p>]"
      ]
     },
     "execution_count": 5,
     "metadata": {},
     "output_type": "execute_result"
    }
   ],
   "source": [
    "soup.find_all('p')"
   ]
  },
  {
   "cell_type": "code",
   "execution_count": 14,
   "id": "7eded6e5-e928-4d8e-be62-9c8bc816fd91",
   "metadata": {
    "execution": {
     "iopub.execute_input": "2021-12-01T20:13:43.086125Z",
     "iopub.status.busy": "2021-12-01T20:13:43.085948Z",
     "iopub.status.idle": "2021-12-01T20:13:43.091895Z",
     "shell.execute_reply": "2021-12-01T20:13:43.090714Z",
     "shell.execute_reply.started": "2021-12-01T20:13:43.086109Z"
    },
    "tags": []
   },
   "outputs": [
    {
     "data": {
      "text/plain": [
       "[<a class=\"link\" href=\"https://www.w3schools.com/html/html_intro.asp\" id=\"intro\">Link 01 fora da DIV, html_intro</a>,\n",
       " <a class=\"link\" href=\"https://www.w3schools.com/html/html_basic.asp\" id=\"basic\">Link 02 fora da DIV, html_basic</a>]"
      ]
     },
     "execution_count": 14,
     "metadata": {},
     "output_type": "execute_result"
    }
   ],
   "source": [
    "soup.find_all('a', attrs={\"class\":\"link\"})"
   ]
  },
  {
   "cell_type": "code",
   "execution_count": 13,
   "id": "83e20dac-f939-4677-97fb-571f6bed82db",
   "metadata": {
    "execution": {
     "iopub.execute_input": "2021-12-01T20:13:21.887615Z",
     "iopub.status.busy": "2021-12-01T20:13:21.887107Z",
     "iopub.status.idle": "2021-12-01T20:13:21.893190Z",
     "shell.execute_reply": "2021-12-01T20:13:21.892102Z",
     "shell.execute_reply.started": "2021-12-01T20:13:21.887587Z"
    },
    "tags": []
   },
   "outputs": [
    {
     "data": {
      "text/plain": [
       "[<a class=\"link\" href=\"https://www.w3schools.com/html/html_intro.asp\" id=\"intro\">Link 01 fora da DIV, html_intro</a>]"
      ]
     },
     "execution_count": 13,
     "metadata": {},
     "output_type": "execute_result"
    }
   ],
   "source": [
    "soup.find_all('a', attrs={\"id\":\"intro\"})"
   ]
  },
  {
   "cell_type": "markdown",
   "id": "5a7ec2dd-0a69-42fa-aca1-e4f5a4ccf518",
   "metadata": {
    "execution": {
     "iopub.execute_input": "2021-11-24T23:34:53.575487Z",
     "iopub.status.busy": "2021-11-24T23:34:53.575052Z",
     "iopub.status.idle": "2021-11-24T23:34:53.579485Z",
     "shell.execute_reply": "2021-11-24T23:34:53.578532Z",
     "shell.execute_reply.started": "2021-11-24T23:34:53.575459Z"
    },
    "tags": []
   },
   "source": [
    "## etree"
   ]
  },
  {
   "cell_type": "code",
   "execution_count": 16,
   "id": "1892acdd-e99a-4f27-b002-e6711631b5d3",
   "metadata": {
    "execution": {
     "iopub.execute_input": "2021-12-01T20:15:22.355721Z",
     "iopub.status.busy": "2021-12-01T20:15:22.355538Z",
     "iopub.status.idle": "2021-12-01T20:15:22.360224Z",
     "shell.execute_reply": "2021-12-01T20:15:22.359073Z",
     "shell.execute_reply.started": "2021-12-01T20:15:22.355704Z"
    },
    "tags": []
   },
   "outputs": [],
   "source": [
    "tree = etree.HTML(string_site)"
   ]
  },
  {
   "cell_type": "code",
   "execution_count": 25,
   "id": "8b310220-a1eb-4db4-b14b-8a10e278c1cb",
   "metadata": {
    "execution": {
     "iopub.execute_input": "2021-12-01T20:17:17.182291Z",
     "iopub.status.busy": "2021-12-01T20:17:17.182121Z",
     "iopub.status.idle": "2021-12-01T20:17:17.185832Z",
     "shell.execute_reply": "2021-12-01T20:17:17.185175Z",
     "shell.execute_reply.started": "2021-12-01T20:17:17.182276Z"
    },
    "tags": []
   },
   "outputs": [],
   "source": [
    "divs = tree.xpath('//body//div//h1/text()')"
   ]
  },
  {
   "cell_type": "code",
   "execution_count": 26,
   "id": "3b834d78-3e01-4cea-954c-ca3be7682bd9",
   "metadata": {
    "execution": {
     "iopub.execute_input": "2021-12-01T20:17:20.375560Z",
     "iopub.status.busy": "2021-12-01T20:17:20.375259Z",
     "iopub.status.idle": "2021-12-01T20:17:20.382383Z",
     "shell.execute_reply": "2021-12-01T20:17:20.380547Z",
     "shell.execute_reply.started": "2021-12-01T20:17:20.375535Z"
    },
    "tags": []
   },
   "outputs": [
    {
     "data": {
      "text/plain": [
       "['Sou um H1 dentro da div']"
      ]
     },
     "execution_count": 26,
     "metadata": {},
     "output_type": "execute_result"
    }
   ],
   "source": [
    "divs"
   ]
  },
  {
   "cell_type": "code",
   "execution_count": 26,
   "id": "9636e36d-c827-4f20-9f9b-07e0aaebb740",
   "metadata": {
    "execution": {
     "iopub.execute_input": "2021-11-24T23:26:04.681937Z",
     "iopub.status.busy": "2021-11-24T23:26:04.681309Z",
     "iopub.status.idle": "2021-11-24T23:26:04.687477Z",
     "shell.execute_reply": "2021-11-24T23:26:04.686396Z",
     "shell.execute_reply.started": "2021-11-24T23:26:04.681914Z"
    },
    "tags": []
   },
   "outputs": [
    {
     "data": {
      "text/plain": [
       "['\\r\\n        ',\n",
       " 'Sou um H1 dentro da div',\n",
       " '\\r\\n        ',\n",
       " 'Parágrafo 03 dentro da div',\n",
       " '\\r\\n        ',\n",
       " 'Parágrafo 04 dentro da div',\n",
       " '\\r\\n    ']"
      ]
     },
     "execution_count": 26,
     "metadata": {},
     "output_type": "execute_result"
    }
   ],
   "source": [
    "div[0].xpath(\".//text()\")"
   ]
  },
  {
   "cell_type": "code",
   "execution_count": null,
   "id": "d53894db-3d74-4c02-b8a1-e9102d4f98ed",
   "metadata": {},
   "outputs": [],
   "source": []
  }
 ],
 "metadata": {
  "interpreter": {
   "hash": "58ce848389f86b4909dd699c019f32e39b40ddf6485ca5b7036659883f4de244"
  },
  "kernelspec": {
   "display_name": "Python [conda env:projetos]",
   "language": "python",
   "name": "conda-env-projetos-py"
  },
  "language_info": {
   "codemirror_mode": {
    "name": "ipython",
    "version": 3
   },
   "file_extension": ".py",
   "mimetype": "text/x-python",
   "name": "python",
   "nbconvert_exporter": "python",
   "pygments_lexer": "ipython3",
   "version": "3.9.7"
  }
 },
 "nbformat": 4,
 "nbformat_minor": 5
}
