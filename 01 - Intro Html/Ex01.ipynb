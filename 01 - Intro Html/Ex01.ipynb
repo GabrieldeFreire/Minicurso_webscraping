{
 "cells": [
  {
   "cell_type": "code",
   "execution_count": 1,
   "id": "3821094c-564f-4164-ac7d-ede9dbec0609",
   "metadata": {
    "execution": {
     "iopub.execute_input": "2021-11-24T23:28:11.885936Z",
     "iopub.status.busy": "2021-11-24T23:28:11.885125Z",
     "iopub.status.idle": "2021-11-24T23:28:12.019570Z",
     "shell.execute_reply": "2021-11-24T23:28:12.018988Z",
     "shell.execute_reply.started": "2021-11-24T23:28:11.885865Z"
    },
    "tags": []
   },
   "outputs": [],
   "source": [
    "try:\n",
    "    from lxml import etree\n",
    "    from bs4 import BeautifulSoup\n",
    "    import requests\n",
    "except ModuleNotFoundError:\n",
    "    !pip install -r requirements.txt --quiet\n",
    "    from lxml import etree\n",
    "    from bs4 import BeautifulSoup\n",
    "    import requests"
   ]
  },
  {
   "cell_type": "code",
   "execution_count": 2,
   "id": "f86aa6e8-86da-4d79-9e11-4a7c660265bb",
   "metadata": {
    "execution": {
     "iopub.execute_input": "2021-11-24T23:28:12.167796Z",
     "iopub.status.busy": "2021-11-24T23:28:12.167230Z",
     "iopub.status.idle": "2021-11-24T23:28:12.172941Z",
     "shell.execute_reply": "2021-11-24T23:28:12.172263Z",
     "shell.execute_reply.started": "2021-11-24T23:28:12.167775Z"
    },
    "tags": []
   },
   "outputs": [],
   "source": [
    "with open(\"exemplo_site.html\") as file:\n",
    "    string_site = file.read()"
   ]
  },
  {
   "cell_type": "code",
   "execution_count": 5,
   "id": "5655ab31-9043-4491-9c37-7720c24c838c",
   "metadata": {
    "execution": {
     "iopub.execute_input": "2021-11-24T23:28:16.967345Z",
     "iopub.status.busy": "2021-11-24T23:28:16.966651Z",
     "iopub.status.idle": "2021-11-24T23:28:16.972943Z",
     "shell.execute_reply": "2021-11-24T23:28:16.971866Z",
     "shell.execute_reply.started": "2021-11-24T23:28:16.967304Z"
    },
    "tags": []
   },
   "outputs": [
    {
     "name": "stdout",
     "output_type": "stream",
     "text": [
      "<html lang=\"pt-br\">\n",
      "<head>\n",
      "    <meta charset=\"UTF-8\">\n",
      "    <title>Título da página</title>\n",
      "</head>\n",
      "<body>\n",
      "    <h1 class=\"h1\">Sou um H1</h1>\n",
      "    <p class=\"paragrafo\">Parágrafo 01</p>\n",
      "    <p class=\"paragrafo\">Parágrafo 02</p>\n",
      "    <div class=\"classe01\">\n",
      "        <h1>Sou um H1 dentro da div</h1>\n",
      "        <p id=\"p3\">Parágrafo 03 dentro da div</p>\n",
      "        <p>Parágrafo 04 dentro da div</p>\n",
      "    </div>\n",
      "    <a class=\"link\" id='intro' href=\"https://www.w3schools.com/html/html_intro.asp\">Link 01 fora da DIV, html_intro</a>\n",
      "    <br>\n",
      "    <br>\n",
      "    <a class=\"link\" id='basic' href=\"https://www.w3schools.com/html/html_basic.asp\">Link 02 fora da DIV, html_basic</a>\n",
      "</body>\n",
      "</html>\n"
     ]
    }
   ],
   "source": [
    "print(string_site)"
   ]
  },
  {
   "cell_type": "markdown",
   "id": "85d4c553-9c20-4070-a554-7774241f79e1",
   "metadata": {
    "jp-MarkdownHeadingCollapsed": true,
    "tags": []
   },
   "source": [
    "## BeautifulSoup"
   ]
  },
  {
   "cell_type": "code",
   "execution_count": 11,
   "id": "29336052",
   "metadata": {
    "execution": {
     "iopub.execute_input": "2021-11-24T23:28:55.948966Z",
     "iopub.status.busy": "2021-11-24T23:28:55.948697Z",
     "iopub.status.idle": "2021-11-24T23:28:55.954272Z",
     "shell.execute_reply": "2021-11-24T23:28:55.953303Z",
     "shell.execute_reply.started": "2021-11-24T23:28:55.948946Z"
    },
    "tags": []
   },
   "outputs": [],
   "source": [
    "soup = BeautifulSoup(string_site, 'html.parser')"
   ]
  },
  {
   "cell_type": "code",
   "execution_count": 53,
   "id": "fce511db",
   "metadata": {
    "execution": {
     "iopub.execute_input": "2021-11-24T23:33:01.995643Z",
     "iopub.status.busy": "2021-11-24T23:33:01.994879Z",
     "iopub.status.idle": "2021-11-24T23:33:02.000587Z",
     "shell.execute_reply": "2021-11-24T23:33:01.999763Z",
     "shell.execute_reply.started": "2021-11-24T23:33:01.995621Z"
    },
    "tags": []
   },
   "outputs": [
    {
     "data": {
      "text/plain": [
       "[<p class=\"paragrafo\">Parágrafo 01</p>,\n",
       " <p class=\"paragrafo\">Parágrafo 02</p>,\n",
       " <p id=\"p3\">Parágrafo 03 dentro da div</p>,\n",
       " <p>Parágrafo 04 dentro da div</p>]"
      ]
     },
     "execution_count": 53,
     "metadata": {},
     "output_type": "execute_result"
    }
   ],
   "source": [
    "soup.find_all('p')"
   ]
  },
  {
   "cell_type": "code",
   "execution_count": 54,
   "id": "7eded6e5-e928-4d8e-be62-9c8bc816fd91",
   "metadata": {
    "execution": {
     "iopub.execute_input": "2021-11-24T23:33:11.883167Z",
     "iopub.status.busy": "2021-11-24T23:33:11.882959Z",
     "iopub.status.idle": "2021-11-24T23:33:11.888451Z",
     "shell.execute_reply": "2021-11-24T23:33:11.887517Z",
     "shell.execute_reply.started": "2021-11-24T23:33:11.883150Z"
    },
    "tags": []
   },
   "outputs": [
    {
     "data": {
      "text/plain": [
       "[<a class=\"link\" href=\"https://www.w3schools.com/html/html_intro.asp\" id=\"intro\">Link 01 fora da DIV, html_intro</a>,\n",
       " <a class=\"link\" href=\"https://www.w3schools.com/html/html_basic.asp\" id=\"basic\">Link 02 fora da DIV, html_basic</a>]"
      ]
     },
     "execution_count": 54,
     "metadata": {},
     "output_type": "execute_result"
    }
   ],
   "source": [
    "soup.find_all('a', attrs={\"class\":\"link\"})"
   ]
  },
  {
   "cell_type": "code",
   "execution_count": 20,
   "id": "83e20dac-f939-4677-97fb-571f6bed82db",
   "metadata": {
    "execution": {
     "iopub.execute_input": "2021-11-24T23:21:59.962871Z",
     "iopub.status.busy": "2021-11-24T23:21:59.962226Z",
     "iopub.status.idle": "2021-11-24T23:21:59.969089Z",
     "shell.execute_reply": "2021-11-24T23:21:59.967834Z",
     "shell.execute_reply.started": "2021-11-24T23:21:59.962845Z"
    },
    "tags": []
   },
   "outputs": [
    {
     "data": {
      "text/plain": [
       "[<a class=\"link\" href=\"https://www.w3schools.com/html/html_intro.asp\" id=\"intro\">Link 01 fora da DIV, html_intro</a>]"
      ]
     },
     "execution_count": 20,
     "metadata": {},
     "output_type": "execute_result"
    }
   ],
   "source": [
    "soup.find_all('a', attrs={\"id\":\"intro\"})"
   ]
  },
  {
   "cell_type": "markdown",
   "id": "5a7ec2dd-0a69-42fa-aca1-e4f5a4ccf518",
   "metadata": {
    "execution": {
     "iopub.execute_input": "2021-11-24T23:34:53.575487Z",
     "iopub.status.busy": "2021-11-24T23:34:53.575052Z",
     "iopub.status.idle": "2021-11-24T23:34:53.579485Z",
     "shell.execute_reply": "2021-11-24T23:34:53.578532Z",
     "shell.execute_reply.started": "2021-11-24T23:34:53.575459Z"
    },
    "tags": []
   },
   "source": [
    "## etree"
   ]
  },
  {
   "cell_type": "code",
   "execution_count": 50,
   "id": "1892acdd-e99a-4f27-b002-e6711631b5d3",
   "metadata": {
    "execution": {
     "iopub.execute_input": "2021-11-24T23:32:52.314149Z",
     "iopub.status.busy": "2021-11-24T23:32:52.313923Z",
     "iopub.status.idle": "2021-11-24T23:32:52.319730Z",
     "shell.execute_reply": "2021-11-24T23:32:52.318814Z",
     "shell.execute_reply.started": "2021-11-24T23:32:52.314130Z"
    },
    "tags": []
   },
   "outputs": [
    {
     "data": {
      "text/plain": [
       "[<Element p at 0x7f67db5b78c0>,\n",
       " <Element p at 0x7f67db5b7900>,\n",
       " <Element p at 0x7f67db602f80>,\n",
       " <Element p at 0x7f67db602c00>]"
      ]
     },
     "execution_count": 50,
     "metadata": {},
     "output_type": "execute_result"
    }
   ],
   "source": [
    "tree = etree.HTML(string_site)\n",
    "tree.xpath('//p')"
   ]
  },
  {
   "cell_type": "code",
   "execution_count": 59,
   "id": "8b310220-a1eb-4db4-b14b-8a10e278c1cb",
   "metadata": {
    "execution": {
     "iopub.execute_input": "2021-11-24T23:34:11.819958Z",
     "iopub.status.busy": "2021-11-24T23:34:11.819604Z",
     "iopub.status.idle": "2021-11-24T23:34:11.824183Z",
     "shell.execute_reply": "2021-11-24T23:34:11.823289Z",
     "shell.execute_reply.started": "2021-11-24T23:34:11.819933Z"
    },
    "tags": []
   },
   "outputs": [],
   "source": [
    "divs = tree.xpath('//div')"
   ]
  },
  {
   "cell_type": "code",
   "execution_count": 56,
   "id": "3b834d78-3e01-4cea-954c-ca3be7682bd9",
   "metadata": {
    "execution": {
     "iopub.execute_input": "2021-11-24T23:33:56.451564Z",
     "iopub.status.busy": "2021-11-24T23:33:56.451282Z",
     "iopub.status.idle": "2021-11-24T23:33:56.457824Z",
     "shell.execute_reply": "2021-11-24T23:33:56.456771Z",
     "shell.execute_reply.started": "2021-11-24T23:33:56.451539Z"
    },
    "tags": []
   },
   "outputs": [
    {
     "data": {
      "text/plain": [
       "[<Element div at 0x7f67d99d51c0>]"
      ]
     },
     "execution_count": 56,
     "metadata": {},
     "output_type": "execute_result"
    }
   ],
   "source": [
    "divs"
   ]
  },
  {
   "cell_type": "code",
   "execution_count": 26,
   "id": "9636e36d-c827-4f20-9f9b-07e0aaebb740",
   "metadata": {
    "execution": {
     "iopub.execute_input": "2021-11-24T23:26:04.681937Z",
     "iopub.status.busy": "2021-11-24T23:26:04.681309Z",
     "iopub.status.idle": "2021-11-24T23:26:04.687477Z",
     "shell.execute_reply": "2021-11-24T23:26:04.686396Z",
     "shell.execute_reply.started": "2021-11-24T23:26:04.681914Z"
    },
    "tags": []
   },
   "outputs": [
    {
     "data": {
      "text/plain": [
       "['\\r\\n        ',\n",
       " 'Sou um H1 dentro da div',\n",
       " '\\r\\n        ',\n",
       " 'Parágrafo 03 dentro da div',\n",
       " '\\r\\n        ',\n",
       " 'Parágrafo 04 dentro da div',\n",
       " '\\r\\n    ']"
      ]
     },
     "execution_count": 26,
     "metadata": {},
     "output_type": "execute_result"
    }
   ],
   "source": [
    "div[0].xpath(\".//text()\")"
   ]
  },
  {
   "cell_type": "code",
   "execution_count": null,
   "id": "d53894db-3d74-4c02-b8a1-e9102d4f98ed",
   "metadata": {},
   "outputs": [],
   "source": []
  }
 ],
 "metadata": {
  "interpreter": {
   "hash": "58ce848389f86b4909dd699c019f32e39b40ddf6485ca5b7036659883f4de244"
  },
  "kernelspec": {
   "display_name": "Python [conda env:projetos]",
   "language": "python",
   "name": "conda-env-projetos-py"
  },
  "language_info": {
   "codemirror_mode": {
    "name": "ipython",
    "version": 3
   },
   "file_extension": ".py",
   "mimetype": "text/x-python",
   "name": "python",
   "nbconvert_exporter": "python",
   "pygments_lexer": "ipython3",
   "version": "3.9.7"
  }
 },
 "nbformat": 4,
 "nbformat_minor": 5
}
