{
 "cells": [
  {
   "cell_type": "code",
   "execution_count": 33,
   "id": "387eca27-951a-403f-8722-2813306dd4fc",
   "metadata": {
    "execution": {
     "iopub.execute_input": "2021-11-25T22:33:35.437733Z",
     "iopub.status.busy": "2021-11-25T22:33:35.437345Z",
     "iopub.status.idle": "2021-11-25T22:33:35.442908Z",
     "shell.execute_reply": "2021-11-25T22:33:35.441473Z",
     "shell.execute_reply.started": "2021-11-25T22:33:35.437706Z"
    },
    "tags": []
   },
   "outputs": [],
   "source": [
    "import requests\n",
    "from lxml import etree\n",
    "from time import sleep\n",
    "from tqdm.notebook import tqdm\n",
    "from itertools import count\n",
    "import random\n",
    "from IPython.display import clear_output"
   ]
  },
  {
   "cell_type": "code",
   "execution_count": 2,
   "id": "28af5f78-3382-416a-98d0-6c63f12c2b10",
   "metadata": {
    "execution": {
     "iopub.execute_input": "2021-11-25T01:08:36.278596Z",
     "iopub.status.busy": "2021-11-25T01:08:36.275657Z",
     "iopub.status.idle": "2021-11-25T01:08:36.995815Z",
     "shell.execute_reply": "2021-11-25T01:08:36.995170Z",
     "shell.execute_reply.started": "2021-11-25T01:08:36.278526Z"
    },
    "tags": []
   },
   "outputs": [],
   "source": [
    "# https://github.com/scrapinghub/spidyquotes\n",
    "url = 'https://quotes.toscrape.com/'\n",
    "user_agent = 'Mozilla/5.0 (Macintosh; Intel Mac OS X 10_12_6) AppleWebKit/537.36 (KHTML, like Gecko) Chrome/61.0.3163.100 Safari/537.36'\n",
    "headers = {'user-agent': user_agent}\n",
    "response = requests.get(url, headers=headers)"
   ]
  },
  {
   "cell_type": "code",
   "execution_count": 3,
   "id": "c7e8e1f0-f6bc-484b-be1e-5bbd58d3a35f",
   "metadata": {
    "execution": {
     "iopub.execute_input": "2021-11-25T01:08:36.999850Z",
     "iopub.status.busy": "2021-11-25T01:08:36.998885Z",
     "iopub.status.idle": "2021-11-25T01:08:37.005163Z",
     "shell.execute_reply": "2021-11-25T01:08:37.004163Z",
     "shell.execute_reply.started": "2021-11-25T01:08:36.999795Z"
    },
    "tags": []
   },
   "outputs": [],
   "source": [
    "tree = etree.HTML(response.content)"
   ]
  },
  {
   "cell_type": "code",
   "execution_count": 4,
   "id": "9eb3b6fb-6f3d-4c67-ac71-075f3d5ce637",
   "metadata": {
    "execution": {
     "iopub.execute_input": "2021-11-25T01:08:37.006881Z",
     "iopub.status.busy": "2021-11-25T01:08:37.006606Z",
     "iopub.status.idle": "2021-11-25T01:08:37.012256Z",
     "shell.execute_reply": "2021-11-25T01:08:37.011099Z",
     "shell.execute_reply.started": "2021-11-25T01:08:37.006853Z"
    },
    "tags": []
   },
   "outputs": [],
   "source": [
    "quotes_block = tree.xpath('//div[contains(@class, \"quote\")]')"
   ]
  },
  {
   "cell_type": "code",
   "execution_count": 5,
   "id": "3c744e79-8776-4e6c-ab53-01ec68a66be2",
   "metadata": {
    "execution": {
     "iopub.execute_input": "2021-11-25T01:08:37.014642Z",
     "iopub.status.busy": "2021-11-25T01:08:37.013685Z",
     "iopub.status.idle": "2021-11-25T01:08:37.020762Z",
     "shell.execute_reply": "2021-11-25T01:08:37.019434Z",
     "shell.execute_reply.started": "2021-11-25T01:08:37.014592Z"
    }
   },
   "outputs": [],
   "source": [
    "block = quotes_block[0]"
   ]
  },
  {
   "cell_type": "code",
   "execution_count": 6,
   "id": "ab22bd85-00d3-421b-8ad9-ec7622c2cbde",
   "metadata": {
    "execution": {
     "iopub.execute_input": "2021-11-25T01:08:37.022897Z",
     "iopub.status.busy": "2021-11-25T01:08:37.022393Z",
     "iopub.status.idle": "2021-11-25T01:08:37.045815Z",
     "shell.execute_reply": "2021-11-25T01:08:37.044536Z",
     "shell.execute_reply.started": "2021-11-25T01:08:37.022856Z"
    },
    "tags": []
   },
   "outputs": [
    {
     "name": "stdout",
     "output_type": "stream",
     "text": [
      "The world as we have created it is a process of our thinking. It cannot be changed without changing our thinking.\n",
      "Albert Einstein\n",
      "['change', 'deep-thoughts', 'thinking', 'world']\n"
     ]
    }
   ],
   "source": [
    "quote_xpath = 'string(.//span[contains(@class, \"text\")]/text())'\n",
    "author_xpath = 'string(.//small[contains(@class, \"author\")]/text())'\n",
    "keywords_xpath = './/div[contains(@class, \"tags\")]//a/text()'\n",
    "print(block.xpath(quote_xpath).replace('“','').replace('”',''))\n",
    "print(block.xpath(author_xpath))\n",
    "print(block.xpath(keywords_xpath))"
   ]
  },
  {
   "cell_type": "code",
   "execution_count": 7,
   "id": "9dbc33bc-3602-41f0-8093-53c2cbc7e2af",
   "metadata": {
    "execution": {
     "iopub.execute_input": "2021-11-25T01:08:37.048291Z",
     "iopub.status.busy": "2021-11-25T01:08:37.047533Z",
     "iopub.status.idle": "2021-11-25T01:08:37.055563Z",
     "shell.execute_reply": "2021-11-25T01:08:37.054179Z",
     "shell.execute_reply.started": "2021-11-25T01:08:37.048253Z"
    },
    "tags": []
   },
   "outputs": [],
   "source": [
    "def clean_char_quotes_in_string(string):\n",
    "    if isinstance(string, str):\n",
    "        return string.replace('“', '').replace('”', '')\n",
    "    return string"
   ]
  },
  {
   "cell_type": "code",
   "execution_count": 8,
   "id": "71bda903-d20f-468c-8c9d-604ab409125a",
   "metadata": {
    "execution": {
     "iopub.execute_input": "2021-11-25T01:08:37.057356Z",
     "iopub.status.busy": "2021-11-25T01:08:37.057034Z",
     "iopub.status.idle": "2021-11-25T01:08:37.062347Z",
     "shell.execute_reply": "2021-11-25T01:08:37.061120Z",
     "shell.execute_reply.started": "2021-11-25T01:08:37.057324Z"
    },
    "tags": []
   },
   "outputs": [],
   "source": [
    "xpaths = {\n",
    "    'quote': quote_xpath,\n",
    "    'author': author_xpath,\n",
    "    'keywords': keywords_xpath\n",
    "}"
   ]
  },
  {
   "cell_type": "code",
   "execution_count": 9,
   "id": "9f347840-5941-4d4b-b74d-f4e4d3a2ed51",
   "metadata": {
    "execution": {
     "iopub.execute_input": "2021-11-25T01:08:37.064847Z",
     "iopub.status.busy": "2021-11-25T01:08:37.063853Z",
     "iopub.status.idle": "2021-11-25T01:08:37.078451Z",
     "shell.execute_reply": "2021-11-25T01:08:37.077162Z",
     "shell.execute_reply.started": "2021-11-25T01:08:37.064750Z"
    },
    "tags": []
   },
   "outputs": [],
   "source": [
    "quotes_list = []\n",
    "for block in quotes_block:\n",
    "    quote = {}\n",
    "    for key, path in xpaths.items():\n",
    "        quote[key] = clean_char_quotes_in_string(block.xpath(path))\n",
    "    quotes_list.append(quote)"
   ]
  },
  {
   "cell_type": "code",
   "execution_count": 49,
   "id": "5cf06f68-c0bc-40f9-b296-4cad6372601e",
   "metadata": {
    "execution": {
     "iopub.execute_input": "2021-11-25T22:37:12.298668Z",
     "iopub.status.busy": "2021-11-25T22:37:12.297916Z",
     "iopub.status.idle": "2021-11-25T22:37:12.304243Z",
     "shell.execute_reply": "2021-11-25T22:37:12.303025Z",
     "shell.execute_reply.started": "2021-11-25T22:37:12.298633Z"
    },
    "tags": []
   },
   "outputs": [
    {
     "name": "stdout",
     "output_type": "stream",
     "text": [
      "[{'quote': 'The world as we have created it is a process of our thinking. It cannot be changed without changing our thinking.', 'author': 'Albert Einstein', 'keywords': ['change', 'deep-thoughts', 'thinking', 'world']}, {'quote': 'It is our choices, Harry, that show what we truly are, far more than our abilities.', 'author': 'J.K. Rowling', 'keywords': ['abilities', 'choices']}, {'quote': 'There are only two ways to live your life. One is as though nothing is a miracle. The other is as though everything is a miracle.', 'author': 'Albert Einstein', 'keywords': ['inspirational', 'life', 'live', 'miracle', 'miracles']}, {'quote': 'The person, be it gentleman or lady, who has not pleasure in a good novel, must be intolerably stupid.', 'author': 'Jane Austen', 'keywords': ['aliteracy', 'books', 'classic', 'humor']}, {'quote': \"Imperfection is beauty, madness is genius and it's better to be absolutely ridiculous than absolutely boring.\", 'author': 'Marilyn Monroe', 'keywords': ['be-yourself', 'inspirational']}, {'quote': 'Try not to become a man of success. Rather become a man of value.', 'author': 'Albert Einstein', 'keywords': ['adulthood', 'success', 'value']}, {'quote': 'It is better to be hated for what you are than to be loved for what you are not.', 'author': 'André Gide', 'keywords': ['life', 'love']}, {'quote': \"I have not failed. I've just found 10,000 ways that won't work.\", 'author': 'Thomas A. Edison', 'keywords': ['edison', 'failure', 'inspirational', 'paraphrased']}, {'quote': \"A woman is like a tea bag; you never know how strong it is until it's in hot water.\", 'author': 'Eleanor Roosevelt', 'keywords': ['misattributed-eleanor-roosevelt']}, {'quote': 'A day without sunshine is like, you know, night.', 'author': 'Steve Martin', 'keywords': ['humor', 'obvious', 'simile']}]\n"
     ]
    }
   ],
   "source": [
    "print(quotes_list)"
   ]
  },
  {
   "cell_type": "code",
   "execution_count": 11,
   "id": "5c82c5ef-66e5-49ce-a8e5-21daaca919a5",
   "metadata": {
    "execution": {
     "iopub.execute_input": "2021-11-25T01:08:37.108187Z",
     "iopub.status.busy": "2021-11-25T01:08:37.107885Z",
     "iopub.status.idle": "2021-11-25T01:08:37.124270Z",
     "shell.execute_reply": "2021-11-25T01:08:37.122935Z",
     "shell.execute_reply.started": "2021-11-25T01:08:37.108159Z"
    },
    "tags": []
   },
   "outputs": [
    {
     "data": {
      "text/plain": [
       "['change,deep-thoughts,thinking,world',\n",
       " 'abilities,choices',\n",
       " 'inspirational,life,live,miracle,miracles',\n",
       " 'aliteracy,books,classic,humor',\n",
       " 'be-yourself,inspirational',\n",
       " 'adulthood,success,value',\n",
       " 'life,love',\n",
       " 'edison,failure,inspirational,paraphrased',\n",
       " 'misattributed-eleanor-roosevelt',\n",
       " 'humor,obvious,simile']"
      ]
     },
     "execution_count": 11,
     "metadata": {},
     "output_type": "execute_result"
    }
   ],
   "source": [
    "tree.xpath('.//meta[contains(@class, \"keywords\")]/@content')"
   ]
  },
  {
   "cell_type": "code",
   "execution_count": 12,
   "id": "21c3068d-5416-4572-ac07-07fca5e08fc3",
   "metadata": {
    "execution": {
     "iopub.execute_input": "2021-11-25T01:08:37.128556Z",
     "iopub.status.busy": "2021-11-25T01:08:37.128007Z",
     "iopub.status.idle": "2021-11-25T01:08:37.145388Z",
     "shell.execute_reply": "2021-11-25T01:08:37.144132Z",
     "shell.execute_reply.started": "2021-11-25T01:08:37.128511Z"
    },
    "tags": []
   },
   "outputs": [],
   "source": [
    "def get_quotes_info(tree):\n",
    "    quotes_list2 = []\n",
    "    quotes = tree.xpath('.//span[contains(@class, \"text\")]/text()')\n",
    "    authors = tree.xpath('.//small[contains(@class, \"author\")]/text()')\n",
    "    keywords = tree.xpath('.//meta[contains(@class, \"keywords\")]/@content')\n",
    "    quotes_info_zip = zip(quotes, authors, keywords)\n",
    "    for quote, author, keywords in quotes_info_zip:\n",
    "        quote = {\n",
    "            'quote': clean_char_quotes_in_string(quote),\n",
    "            'author': author,\n",
    "            'keywords': keywords.split(','),\n",
    "        }\n",
    "        quotes_list2.append(quote)\n",
    "    return quotes_list2"
   ]
  },
  {
   "cell_type": "code",
   "execution_count": 13,
   "id": "be43f1e5-4f2b-4cd3-9305-469eb34def25",
   "metadata": {
    "execution": {
     "iopub.execute_input": "2021-11-25T01:08:37.148030Z",
     "iopub.status.busy": "2021-11-25T01:08:37.146910Z",
     "iopub.status.idle": "2021-11-25T01:08:37.162253Z",
     "shell.execute_reply": "2021-11-25T01:08:37.161081Z",
     "shell.execute_reply.started": "2021-11-25T01:08:37.147985Z"
    },
    "tags": []
   },
   "outputs": [
    {
     "name": "stdout",
     "output_type": "stream",
     "text": [
      "{'quote': 'The world as we have created it is a process of our thinking. It cannot be changed without changing our thinking.', 'author': 'Albert Einstein', 'keywords': ['change', 'deep-thoughts', 'thinking', 'world']} \n",
      "------------\n",
      "{'quote': 'It is our choices, Harry, that show what we truly are, far more than our abilities.', 'author': 'J.K. Rowling', 'keywords': ['abilities', 'choices']} \n",
      "------------\n",
      "{'quote': 'There are only two ways to live your life. One is as though nothing is a miracle. The other is as though everything is a miracle.', 'author': 'Albert Einstein', 'keywords': ['inspirational', 'life', 'live', 'miracle', 'miracles']} \n",
      "------------\n",
      "{'quote': 'The person, be it gentleman or lady, who has not pleasure in a good novel, must be intolerably stupid.', 'author': 'Jane Austen', 'keywords': ['aliteracy', 'books', 'classic', 'humor']} \n",
      "------------\n",
      "{'quote': \"Imperfection is beauty, madness is genius and it's better to be absolutely ridiculous than absolutely boring.\", 'author': 'Marilyn Monroe', 'keywords': ['be-yourself', 'inspirational']} \n",
      "------------\n",
      "{'quote': 'Try not to become a man of success. Rather become a man of value.', 'author': 'Albert Einstein', 'keywords': ['adulthood', 'success', 'value']} \n",
      "------------\n",
      "{'quote': 'It is better to be hated for what you are than to be loved for what you are not.', 'author': 'André Gide', 'keywords': ['life', 'love']} \n",
      "------------\n",
      "{'quote': \"I have not failed. I've just found 10,000 ways that won't work.\", 'author': 'Thomas A. Edison', 'keywords': ['edison', 'failure', 'inspirational', 'paraphrased']} \n",
      "------------\n",
      "{'quote': \"A woman is like a tea bag; you never know how strong it is until it's in hot water.\", 'author': 'Eleanor Roosevelt', 'keywords': ['misattributed-eleanor-roosevelt']} \n",
      "------------\n",
      "{'quote': 'A day without sunshine is like, you know, night.', 'author': 'Steve Martin', 'keywords': ['humor', 'obvious', 'simile']} \n",
      "------------\n"
     ]
    },
    {
     "data": {
      "text/plain": [
       "[None, None, None, None, None, None, None, None, None, None]"
      ]
     },
     "execution_count": 13,
     "metadata": {},
     "output_type": "execute_result"
    }
   ],
   "source": [
    "[print(quote, '\\n------------') for quote in get_quotes_info(tree)]"
   ]
  },
  {
   "cell_type": "code",
   "execution_count": 37,
   "id": "12a89d2a-adb0-4107-b719-221c29024410",
   "metadata": {
    "execution": {
     "iopub.execute_input": "2021-11-25T22:34:03.953055Z",
     "iopub.status.busy": "2021-11-25T22:34:03.952717Z",
     "iopub.status.idle": "2021-11-25T22:34:03.957525Z",
     "shell.execute_reply": "2021-11-25T22:34:03.956067Z",
     "shell.execute_reply.started": "2021-11-25T22:34:03.953016Z"
    },
    "tags": []
   },
   "outputs": [],
   "source": [
    "def have_quotes(body):\n",
    "    return \"No quotes found!\" not in body"
   ]
  },
  {
   "cell_type": "code",
   "execution_count": 44,
   "id": "d30d3532-7ab8-4058-89e6-dd06a22f25ea",
   "metadata": {
    "execution": {
     "iopub.execute_input": "2021-11-25T22:35:29.998373Z",
     "iopub.status.busy": "2021-11-25T22:35:29.997857Z",
     "iopub.status.idle": "2021-11-25T22:35:30.007933Z",
     "shell.execute_reply": "2021-11-25T22:35:30.006461Z",
     "shell.execute_reply.started": "2021-11-25T22:35:29.998306Z"
    },
    "tags": []
   },
   "outputs": [],
   "source": [
    "def get_all_quotes_to_page(last_page=10):\n",
    "    counter = count(1)\n",
    "    all_quotes_info = []\n",
    "    for page in counter:\n",
    "        print(f'Scraping page {page}')\n",
    "        url = f'https://quotes.toscrape.com/page/{page}/'\n",
    "        response = requests.get(url, headers=headers)\n",
    "        if response.status_code != 200:\n",
    "            continue\n",
    "        if not have_quotes(response.text):\n",
    "            break\n",
    "        tree = etree.HTML(response.content)\n",
    "        all_quotes_info.extend(get_quotes_info(tree))\n",
    "        sleep(random.randrange(100, 200)/1000)\n",
    "        clear_output(wait=True)\n",
    "    return all_quotes_info"
   ]
  },
  {
   "cell_type": "code",
   "execution_count": 45,
   "id": "54c14d29-59fd-45b7-a167-39a668719dfb",
   "metadata": {
    "execution": {
     "iopub.execute_input": "2021-11-25T22:35:30.592665Z",
     "iopub.status.busy": "2021-11-25T22:35:30.592083Z",
     "iopub.status.idle": "2021-11-25T22:35:39.778712Z",
     "shell.execute_reply": "2021-11-25T22:35:39.778057Z",
     "shell.execute_reply.started": "2021-11-25T22:35:30.592633Z"
    },
    "tags": []
   },
   "outputs": [
    {
     "name": "stdout",
     "output_type": "stream",
     "text": [
      "Scraping page 11\n"
     ]
    }
   ],
   "source": [
    "quotes = get_all_quotes_to_page(20)"
   ]
  },
  {
   "cell_type": "code",
   "execution_count": 46,
   "id": "1183abb4-a0a7-4361-8967-25538584a46d",
   "metadata": {
    "execution": {
     "iopub.execute_input": "2021-11-25T22:36:15.032112Z",
     "iopub.status.busy": "2021-11-25T22:36:15.030871Z",
     "iopub.status.idle": "2021-11-25T22:36:15.040492Z",
     "shell.execute_reply": "2021-11-25T22:36:15.039072Z",
     "shell.execute_reply.started": "2021-11-25T22:36:15.032064Z"
    },
    "tags": []
   },
   "outputs": [
    {
     "data": {
      "text/plain": [
       "100"
      ]
     },
     "execution_count": 46,
     "metadata": {},
     "output_type": "execute_result"
    }
   ],
   "source": [
    "len(quotes)"
   ]
  },
  {
   "cell_type": "code",
   "execution_count": 47,
   "id": "bb5e5b18-1caa-426a-be05-9dd9db28a020",
   "metadata": {
    "execution": {
     "iopub.execute_input": "2021-11-25T22:36:16.887177Z",
     "iopub.status.busy": "2021-11-25T22:36:16.886110Z",
     "iopub.status.idle": "2021-11-25T22:36:16.897477Z",
     "shell.execute_reply": "2021-11-25T22:36:16.896316Z",
     "shell.execute_reply.started": "2021-11-25T22:36:16.887117Z"
    },
    "tags": []
   },
   "outputs": [
    {
     "data": {
      "text/plain": [
       "[{'quote': 'The person, be it gentleman or lady, who has not pleasure in a good novel, must be intolerably stupid.',\n",
       "  'author': 'Jane Austen',\n",
       "  'keywords': ['aliteracy', 'books', 'classic', 'humor']},\n",
       " {'quote': 'Good friends, good books, and a sleepy conscience: this is the ideal life.',\n",
       "  'author': 'Mark Twain',\n",
       "  'keywords': ['books', 'contentment', 'friends', 'friendship', 'life']},\n",
       " {'quote': 'I have always imagined that Paradise will be a kind of library.',\n",
       "  'author': 'Jorge Luis Borges',\n",
       "  'keywords': ['books', 'library']},\n",
       " {'quote': 'You can never get a cup of tea large enough or a book long enough to suit me.',\n",
       "  'author': 'C.S. Lewis',\n",
       "  'keywords': ['books', 'inspirational', 'reading', 'tea']},\n",
       " {'quote': 'If you only read the books that everyone else is reading, you can only think what everyone else is thinking.',\n",
       "  'author': 'Haruki Murakami',\n",
       "  'keywords': ['books', 'thought']},\n",
       " {'quote': 'There is no friend as loyal as a book.',\n",
       "  'author': 'Ernest Hemingway',\n",
       "  'keywords': ['books', 'friends', 'novelist-quotes']},\n",
       " {'quote': \"What really knocks me out is a book that, when you're all done reading it, you wish the author that wrote it was a terrific friend of yours and you could call him up on the phone whenever you felt like it. That doesn't happen much, though.\",\n",
       "  'author': 'J.D. Salinger',\n",
       "  'keywords': ['authors', 'books', 'literature', 'reading', 'writing']},\n",
       " {'quote': \"′Classic′ - a book which people praise and don't read.\",\n",
       "  'author': 'Mark Twain',\n",
       "  'keywords': ['books', 'classic', 'reading']},\n",
       " {'quote': 'I declare after all there is no enjoyment like reading! How much sooner one tires of any thing than of a book! -- When I have a house of my own, I shall be miserable if I have not an excellent library.',\n",
       "  'author': 'Jane Austen',\n",
       "  'keywords': ['books', 'library', 'reading']},\n",
       " {'quote': 'You have to write the book that wants to be written. And if the book will be too difficult for grown-ups, then you write it for children.',\n",
       "  'author': \"Madeleine L'Engle\",\n",
       "  'keywords': ['books',\n",
       "   'children',\n",
       "   'difficult',\n",
       "   'grown-ups',\n",
       "   'write',\n",
       "   'writers',\n",
       "   'writing']},\n",
       " {'quote': '... a mind needs books as a sword needs a whetstone, if it is to keep its edge.',\n",
       "  'author': 'George R.R. Martin',\n",
       "  'keywords': ['books', 'mind']}]"
      ]
     },
     "execution_count": 47,
     "metadata": {},
     "output_type": "execute_result"
    }
   ],
   "source": [
    "[item for item in quotes if 'books' in item['keywords']]"
   ]
  },
  {
   "cell_type": "markdown",
   "id": "20ada764-5968-49f5-a87f-2b71cee98e1f",
   "metadata": {
    "tags": []
   },
   "source": [
    "## Desafio"
   ]
  },
  {
   "cell_type": "markdown",
   "id": "a7c84088-1786-4189-bfa8-76c819977feb",
   "metadata": {},
   "source": [
    "scrap do site https://quotes.toscrape.com//tableful"
   ]
  }
 ],
 "metadata": {
  "kernelspec": {
   "display_name": "Python [conda env:projetos]",
   "language": "python",
   "name": "conda-env-projetos-py"
  },
  "language_info": {
   "codemirror_mode": {
    "name": "ipython",
    "version": 3
   },
   "file_extension": ".py",
   "mimetype": "text/x-python",
   "name": "python",
   "nbconvert_exporter": "python",
   "pygments_lexer": "ipython3",
   "version": "3.9.7"
  }
 },
 "nbformat": 4,
 "nbformat_minor": 5
}
