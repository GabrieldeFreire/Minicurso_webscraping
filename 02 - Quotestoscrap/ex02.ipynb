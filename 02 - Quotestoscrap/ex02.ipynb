{
 "cells": [
  {
   "cell_type": "code",
   "execution_count": null,
   "id": "387eca27-951a-403f-8722-2813306dd4fc",
   "metadata": {
    "tags": []
   },
   "outputs": [],
   "source": [
    "import requests\n",
    "from lxml import etree\n",
    "from time import sleep\n",
    "from tqdm.notebook import trange, tqdm"
   ]
  },
  {
   "cell_type": "code",
   "execution_count": null,
   "id": "28af5f78-3382-416a-98d0-6c63f12c2b10",
   "metadata": {
    "tags": []
   },
   "outputs": [],
   "source": [
    "url = 'https://quotes.toscrape.com/'\n",
    "user_agent = 'Mozilla/5.0 (Macintosh; Intel Mac OS X 10_12_6) AppleWebKit/537.36 (KHTML, like Gecko) Chrome/61.0.3163.100 Safari/537.36'\n",
    "headers = {'user-agent': user_agent}\n",
    "response = requests.get(url, headers=headers)"
   ]
  },
  {
   "cell_type": "code",
   "execution_count": null,
   "id": "1307729a-dadb-4c63-a271-6f4852aea71c",
   "metadata": {
    "tags": []
   },
   "outputs": [],
   "source": [
    "response.status_code"
   ]
  },
  {
   "cell_type": "code",
   "execution_count": null,
   "id": "c7e8e1f0-f6bc-484b-be1e-5bbd58d3a35f",
   "metadata": {
    "tags": []
   },
   "outputs": [],
   "source": [
    "tree = etree.HTML(response.content)"
   ]
  },
  {
   "cell_type": "code",
   "execution_count": null,
   "id": "9eb3b6fb-6f3d-4c67-ac71-075f3d5ce637",
   "metadata": {
    "tags": []
   },
   "outputs": [],
   "source": [
    "quotes_block = tree.xpath('')"
   ]
  },
  {
   "cell_type": "code",
   "execution_count": null,
   "id": "3c744e79-8776-4e6c-ab53-01ec68a66be2",
   "metadata": {
    "tags": []
   },
   "outputs": [],
   "source": [
    "block = quotes_block"
   ]
  },
  {
   "cell_type": "code",
   "execution_count": null,
   "id": "ab22bd85-00d3-421b-8ad9-ec7622c2cbde",
   "metadata": {
    "tags": []
   },
   "outputs": [],
   "source": [
    "quote_xpath =\n",
    "author_xpath = \n",
    "keywords_xpath = \n",
    "print(block.xpath(quote_xpath))\n",
    "print(block.xpath(author_xpath))\n",
    "print(block.xpath(keywords_xpath))"
   ]
  },
  {
   "cell_type": "code",
   "execution_count": null,
   "id": "9dbc33bc-3602-41f0-8093-53c2cbc7e2af",
   "metadata": {
    "tags": []
   },
   "outputs": [],
   "source": [
    "def remove_char_quotes_in_string(string):\n"
   ]
  },
  {
   "cell_type": "code",
   "execution_count": null,
   "id": "71bda903-d20f-468c-8c9d-604ab409125a",
   "metadata": {
    "tags": []
   },
   "outputs": [],
   "source": [
    "xpaths = {\n",
    "    'quote': \n",
    "    'author': \n",
    "    'keywords': \n",
    "}"
   ]
  },
  {
   "cell_type": "code",
   "execution_count": null,
   "id": "9f347840-5941-4d4b-b74d-f4e4d3a2ed51",
   "metadata": {
    "tags": []
   },
   "outputs": [],
   "source": [
    "quotes_list = []\n",
    "for block in quotes_block:\n"
   ]
  },
  {
   "cell_type": "code",
   "execution_count": null,
   "id": "5cf06f68-c0bc-40f9-b296-4cad6372601e",
   "metadata": {
    "tags": []
   },
   "outputs": [],
   "source": [
    "[print(quote, '\\n------------') for quote in quotes_list]"
   ]
  },
  {
   "cell_type": "code",
   "execution_count": null,
   "id": "5c82c5ef-66e5-49ce-a8e5-21daaca919a5",
   "metadata": {
    "tags": []
   },
   "outputs": [],
   "source": []
  },
  {
   "cell_type": "code",
   "execution_count": null,
   "id": "21c3068d-5416-4572-ac07-07fca5e08fc3",
   "metadata": {
    "tags": []
   },
   "outputs": [],
   "source": [
    "def get_quotes_info():\n"
   ]
  },
  {
   "cell_type": "code",
   "execution_count": null,
   "id": "be43f1e5-4f2b-4cd3-9305-469eb34def25",
   "metadata": {
    "tags": []
   },
   "outputs": [],
   "source": [
    "[print(quote, '\\n------------') for quote in get_quotes_info(tree)]"
   ]
  },
  {
   "cell_type": "code",
   "execution_count": null,
   "id": "d30d3532-7ab8-4058-89e6-dd06a22f25ea",
   "metadata": {
    "tags": []
   },
   "outputs": [],
   "source": [
    "def get_all_quotes_to_page(last_page=10):\n"
   ]
  },
  {
   "cell_type": "code",
   "execution_count": null,
   "id": "54c14d29-59fd-45b7-a167-39a668719dfb",
   "metadata": {
    "tags": []
   },
   "outputs": [],
   "source": [
    "quotes = get_all_quotes_to_page(10)"
   ]
  },
  {
   "cell_type": "code",
   "execution_count": null,
   "id": "bb5e5b18-1caa-426a-be05-9dd9db28a020",
   "metadata": {},
   "outputs": [],
   "source": []
  },
  {
   "cell_type": "code",
   "execution_count": null,
   "id": "e3079118-db9a-4b44-abf8-5ca72172d6bb",
   "metadata": {},
   "outputs": [],
   "source": []
  }
 ],
 "metadata": {
  "kernelspec": {
   "display_name": "Python [conda env:projetos]",
   "language": "python",
   "name": "conda-env-projetos-py"
  },
  "language_info": {
   "codemirror_mode": {
    "name": "ipython",
    "version": 3
   },
   "file_extension": ".py",
   "mimetype": "text/x-python",
   "name": "python",
   "nbconvert_exporter": "python",
   "pygments_lexer": "ipython3",
   "version": "3.9.7"
  }
 },
 "nbformat": 4,
 "nbformat_minor": 5
}
