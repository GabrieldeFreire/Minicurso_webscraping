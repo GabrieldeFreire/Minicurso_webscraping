{
 "cells": [
  {
   "cell_type": "code",
   "execution_count": 1,
   "id": "387eca27-951a-403f-8722-2813306dd4fc",
   "metadata": {
    "execution": {
     "iopub.execute_input": "2021-12-01T20:25:55.960678Z",
     "iopub.status.busy": "2021-12-01T20:25:55.960298Z",
     "iopub.status.idle": "2021-12-01T20:25:56.081442Z",
     "shell.execute_reply": "2021-12-01T20:25:56.080775Z",
     "shell.execute_reply.started": "2021-12-01T20:25:55.960603Z"
    },
    "tags": []
   },
   "outputs": [],
   "source": [
    "import requests\n",
    "from lxml import etree\n",
    "from time import sleep\n",
    "from tqdm.notebook import trange, tqdm"
   ]
  },
  {
   "cell_type": "code",
   "execution_count": 2,
   "id": "28af5f78-3382-416a-98d0-6c63f12c2b10",
   "metadata": {
    "execution": {
     "iopub.execute_input": "2021-12-01T20:25:56.536514Z",
     "iopub.status.busy": "2021-12-01T20:25:56.536030Z",
     "iopub.status.idle": "2021-12-01T20:25:57.921638Z",
     "shell.execute_reply": "2021-12-01T20:25:57.920469Z",
     "shell.execute_reply.started": "2021-12-01T20:25:56.536478Z"
    },
    "tags": []
   },
   "outputs": [],
   "source": [
    "url = 'https://quotes.toscrape.com/'\n",
    "user_agent = 'Mozilla/5.0 (Macintosh; Intel Mac OS X 10_12_6) AppleWebKit/537.36 (KHTML, like Gecko) Chrome/61.0.3163.100 Safari/537.36'\n",
    "headers = {'user-agent': user_agent}\n",
    "response = requests.get(url, headers=headers)"
   ]
  },
  {
   "cell_type": "code",
   "execution_count": 3,
   "id": "1307729a-dadb-4c63-a271-6f4852aea71c",
   "metadata": {
    "execution": {
     "iopub.execute_input": "2021-12-01T20:25:59.004262Z",
     "iopub.status.busy": "2021-12-01T20:25:59.004058Z",
     "iopub.status.idle": "2021-12-01T20:25:59.013728Z",
     "shell.execute_reply": "2021-12-01T20:25:59.012803Z",
     "shell.execute_reply.started": "2021-12-01T20:25:59.004245Z"
    },
    "tags": []
   },
   "outputs": [
    {
     "data": {
      "text/plain": [
       "200"
      ]
     },
     "execution_count": 7,
     "metadata": {},
     "output_type": "execute_result"
    }
   ],
   "source": [
    "response.status_code"
   ]
  },
  {
   "cell_type": "code",
   "execution_count": 4,
   "id": "c7e8e1f0-f6bc-484b-be1e-5bbd58d3a35f",
   "metadata": {
    "execution": {
     "iopub.execute_input": "2021-12-01T20:25:59.261134Z",
     "iopub.status.busy": "2021-12-01T20:25:59.260957Z",
     "iopub.status.idle": "2021-12-01T20:25:59.266624Z",
     "shell.execute_reply": "2021-12-01T20:25:59.265416Z",
     "shell.execute_reply.started": "2021-12-01T20:25:59.261117Z"
    },
    "tags": []
   },
   "outputs": [],
   "source": [
    "tree = etree.HTML(response.content)"
   ]
  },
  {
   "cell_type": "code",
   "execution_count": 13,
   "id": "9eb3b6fb-6f3d-4c67-ac71-075f3d5ce637",
   "metadata": {
    "execution": {
     "iopub.execute_input": "2021-12-01T20:36:17.184216Z",
     "iopub.status.busy": "2021-12-01T20:36:17.184019Z",
     "iopub.status.idle": "2021-12-01T20:36:17.187683Z",
     "shell.execute_reply": "2021-12-01T20:36:17.187062Z",
     "shell.execute_reply.started": "2021-12-01T20:36:17.184199Z"
    },
    "tags": []
   },
   "outputs": [],
   "source": [
    "quotes_block = tree.xpath('.//div[contains(@class, \"quote\")]')"
   ]
  },
  {
   "cell_type": "code",
   "execution_count": 14,
   "id": "3c744e79-8776-4e6c-ab53-01ec68a66be2",
   "metadata": {
    "execution": {
     "iopub.execute_input": "2021-12-01T20:36:17.481303Z",
     "iopub.status.busy": "2021-12-01T20:36:17.481117Z",
     "iopub.status.idle": "2021-12-01T20:36:17.485108Z",
     "shell.execute_reply": "2021-12-01T20:36:17.484172Z",
     "shell.execute_reply.started": "2021-12-01T20:36:17.481285Z"
    },
    "tags": []
   },
   "outputs": [],
   "source": [
    "block = quotes_block[0]"
   ]
  },
  {
   "cell_type": "code",
   "execution_count": null,
   "id": "da3da963-393d-4814-8760-9b3a0d9d9125",
   "metadata": {},
   "outputs": [],
   "source": []
  },
  {
   "cell_type": "code",
   "execution_count": 38,
   "id": "ab22bd85-00d3-421b-8ad9-ec7622c2cbde",
   "metadata": {
    "execution": {
     "iopub.execute_input": "2021-12-01T20:47:16.790137Z",
     "iopub.status.busy": "2021-12-01T20:47:16.789624Z",
     "iopub.status.idle": "2021-12-01T20:47:16.795111Z",
     "shell.execute_reply": "2021-12-01T20:47:16.794332Z",
     "shell.execute_reply.started": "2021-12-01T20:47:16.790116Z"
    },
    "tags": []
   },
   "outputs": [
    {
     "name": "stdout",
     "output_type": "stream",
     "text": [
      "A day without sunshine is like, you know, night.\n",
      "Steve Martin\n",
      "['humor', 'obvious', 'simile']\n"
     ]
    }
   ],
   "source": [
    "quote_xpath = \"string(.//span[contains(@class, 'text')]/text())\"\n",
    "author_xpath = \"string(.//span//small/text())\"\n",
    "keywords_xpath = \"string(.//div//meta/@content)\"\n",
    "print(remove_char_quotes_in_string(block.xpath(quote_xpath)))\n",
    "print(block.xpath(author_xpath))\n",
    "print(block.xpath(keywords_xpath).split(','))"
   ]
  },
  {
   "cell_type": "code",
   "execution_count": 39,
   "id": "2fd204b5-d1b6-4c4d-87f0-11aaa70d6c26",
   "metadata": {
    "execution": {
     "iopub.execute_input": "2021-12-01T20:47:20.207268Z",
     "iopub.status.busy": "2021-12-01T20:47:20.207042Z",
     "iopub.status.idle": "2021-12-01T20:47:20.211721Z",
     "shell.execute_reply": "2021-12-01T20:47:20.210839Z",
     "shell.execute_reply.started": "2021-12-01T20:47:20.207251Z"
    },
    "tags": []
   },
   "outputs": [
    {
     "data": {
      "text/plain": [
       "'“A day without sunshine is like, you know, night.”'"
      ]
     },
     "execution_count": 39,
     "metadata": {},
     "output_type": "execute_result"
    }
   ],
   "source": [
    "block.xpath(quote_xpath)"
   ]
  },
  {
   "cell_type": "code",
   "execution_count": 24,
   "id": "8856f17e-7f92-41ae-a001-a72479e25a6a",
   "metadata": {
    "execution": {
     "iopub.execute_input": "2021-12-01T20:39:38.357107Z",
     "iopub.status.busy": "2021-12-01T20:39:38.356925Z",
     "iopub.status.idle": "2021-12-01T20:39:38.362885Z",
     "shell.execute_reply": "2021-12-01T20:39:38.361992Z",
     "shell.execute_reply.started": "2021-12-01T20:39:38.357091Z"
    },
    "tags": []
   },
   "outputs": [
    {
     "data": {
      "text/plain": [
       "['change', 'deep-thoughts', 'thinking', 'world']"
      ]
     },
     "execution_count": 24,
     "metadata": {},
     "output_type": "execute_result"
    }
   ],
   "source": [
    "block.xpath(keywords_xpath)[0].split(',')"
   ]
  },
  {
   "cell_type": "code",
   "execution_count": 42,
   "id": "9dbc33bc-3602-41f0-8093-53c2cbc7e2af",
   "metadata": {
    "execution": {
     "iopub.execute_input": "2021-12-01T20:47:59.032535Z",
     "iopub.status.busy": "2021-12-01T20:47:59.031924Z",
     "iopub.status.idle": "2021-12-01T20:47:59.036704Z",
     "shell.execute_reply": "2021-12-01T20:47:59.035530Z",
     "shell.execute_reply.started": "2021-12-01T20:47:59.032512Z"
    },
    "tags": []
   },
   "outputs": [],
   "source": [
    "def remove_char_quotes_in_string(string):\n",
    "    if isinstance(string, str):\n",
    "        return string.replace('“','').replace('”','')\n",
    "    return string"
   ]
  },
  {
   "cell_type": "code",
   "execution_count": null,
   "id": "70c93981-656a-42f7-af14-f9777607304a",
   "metadata": {},
   "outputs": [],
   "source": [
    "quotes_block = tree.xpath('.//div[contains(@class, \"quote\")]')"
   ]
  },
  {
   "cell_type": "code",
   "execution_count": 27,
   "id": "71bda903-d20f-468c-8c9d-604ab409125a",
   "metadata": {
    "execution": {
     "iopub.execute_input": "2021-12-01T20:41:13.280339Z",
     "iopub.status.busy": "2021-12-01T20:41:13.279794Z",
     "iopub.status.idle": "2021-12-01T20:41:13.284850Z",
     "shell.execute_reply": "2021-12-01T20:41:13.283745Z",
     "shell.execute_reply.started": "2021-12-01T20:41:13.280302Z"
    },
    "tags": []
   },
   "outputs": [],
   "source": [
    "xpaths = {\n",
    "    'quote': quote_xpath,\n",
    "    'author': author_xpath,\n",
    "    'keywords': keywords_xpath\n",
    "}"
   ]
  },
  {
   "cell_type": "code",
   "execution_count": 48,
   "id": "9f347840-5941-4d4b-b74d-f4e4d3a2ed51",
   "metadata": {
    "execution": {
     "iopub.execute_input": "2021-12-01T20:49:52.393516Z",
     "iopub.status.busy": "2021-12-01T20:49:52.393182Z",
     "iopub.status.idle": "2021-12-01T20:49:52.400292Z",
     "shell.execute_reply": "2021-12-01T20:49:52.399462Z",
     "shell.execute_reply.started": "2021-12-01T20:49:52.393483Z"
    },
    "tags": []
   },
   "outputs": [],
   "source": [
    "quotes_list = []\n",
    "for block in quotes_block:\n",
    "    quote = {}\n",
    "    for key, path in xpaths.items():\n",
    "        if key == 'keywords':\n",
    "            quote[key] = remove_char_quotes_in_string(block.xpath(path)).split(',')\n",
    "        else:\n",
    "            quote[key] = remove_char_quotes_in_string(block.xpath(path))\n",
    "    quotes_list.append(quote)"
   ]
  },
  {
   "cell_type": "code",
   "execution_count": 49,
   "id": "5cf06f68-c0bc-40f9-b296-4cad6372601e",
   "metadata": {
    "collapsed": true,
    "execution": {
     "iopub.execute_input": "2021-12-01T20:49:52.616721Z",
     "iopub.status.busy": "2021-12-01T20:49:52.616546Z",
     "iopub.status.idle": "2021-12-01T20:49:52.626541Z",
     "shell.execute_reply": "2021-12-01T20:49:52.625494Z",
     "shell.execute_reply.started": "2021-12-01T20:49:52.616704Z"
    },
    "jupyter": {
     "outputs_hidden": true
    },
    "tags": []
   },
   "outputs": [
    {
     "name": "stdout",
     "output_type": "stream",
     "text": [
      "{'quote': 'The world as we have created it is a process of our thinking. It cannot be changed without changing our thinking.', 'author': 'Albert Einstein', 'keywords': ['change', 'deep-thoughts', 'thinking', 'world']} \n",
      "------------\n",
      "{'quote': 'It is our choices, Harry, that show what we truly are, far more than our abilities.', 'author': 'J.K. Rowling', 'keywords': ['abilities', 'choices']} \n",
      "------------\n",
      "{'quote': 'There are only two ways to live your life. One is as though nothing is a miracle. The other is as though everything is a miracle.', 'author': 'Albert Einstein', 'keywords': ['inspirational', 'life', 'live', 'miracle', 'miracles']} \n",
      "------------\n",
      "{'quote': 'The person, be it gentleman or lady, who has not pleasure in a good novel, must be intolerably stupid.', 'author': 'Jane Austen', 'keywords': ['aliteracy', 'books', 'classic', 'humor']} \n",
      "------------\n",
      "{'quote': \"Imperfection is beauty, madness is genius and it's better to be absolutely ridiculous than absolutely boring.\", 'author': 'Marilyn Monroe', 'keywords': ['be-yourself', 'inspirational']} \n",
      "------------\n",
      "{'quote': 'Try not to become a man of success. Rather become a man of value.', 'author': 'Albert Einstein', 'keywords': ['adulthood', 'success', 'value']} \n",
      "------------\n",
      "{'quote': 'It is better to be hated for what you are than to be loved for what you are not.', 'author': 'André Gide', 'keywords': ['life', 'love']} \n",
      "------------\n",
      "{'quote': \"I have not failed. I've just found 10,000 ways that won't work.\", 'author': 'Thomas A. Edison', 'keywords': ['edison', 'failure', 'inspirational', 'paraphrased']} \n",
      "------------\n",
      "{'quote': \"A woman is like a tea bag; you never know how strong it is until it's in hot water.\", 'author': 'Eleanor Roosevelt', 'keywords': ['misattributed-eleanor-roosevelt']} \n",
      "------------\n",
      "{'quote': 'A day without sunshine is like, you know, night.', 'author': 'Steve Martin', 'keywords': ['humor', 'obvious', 'simile']} \n",
      "------------\n"
     ]
    },
    {
     "data": {
      "text/plain": [
       "[None, None, None, None, None, None, None, None, None, None]"
      ]
     },
     "execution_count": 49,
     "metadata": {},
     "output_type": "execute_result"
    }
   ],
   "source": [
    "[print(quote, '\\n------------') for quote in quotes_list]"
   ]
  },
  {
   "cell_type": "code",
   "execution_count": 55,
   "id": "21c3068d-5416-4572-ac07-07fca5e08fc3",
   "metadata": {
    "execution": {
     "iopub.execute_input": "2021-12-01T21:13:36.462650Z",
     "iopub.status.busy": "2021-12-01T21:13:36.462401Z",
     "iopub.status.idle": "2021-12-01T21:13:36.469240Z",
     "shell.execute_reply": "2021-12-01T21:13:36.468209Z",
     "shell.execute_reply.started": "2021-12-01T21:13:36.462625Z"
    },
    "tags": []
   },
   "outputs": [],
   "source": [
    "def get_quotes_info(tree):\n",
    "    quotes_list2 = []\n",
    "    quotes = tree.xpath('.//span[contains(@class, \"text\")]/text()')\n",
    "    authors = tree.xpath('.//small[contains(@class, \"author\")]/text()')\n",
    "    keywords = tree.xpath('.//meta[contains(@class, \"keywords\")]/@content')\n",
    "    quotes_info_zip = zip(quotes, authors, keywords)\n",
    "    for quote, author, keywords in quotes_info_zip:\n",
    "        quote = {\n",
    "            'quote': remove_char_quotes_in_string(quote),\n",
    "            'author': author,\n",
    "            'keywords': keywords.split(','),\n",
    "        }\n",
    "        quotes_list2.append(quote)\n",
    "    return quotes_list2"
   ]
  },
  {
   "cell_type": "code",
   "execution_count": 52,
   "id": "be43f1e5-4f2b-4cd3-9305-469eb34def25",
   "metadata": {
    "execution": {
     "iopub.execute_input": "2021-12-01T21:02:52.594618Z",
     "iopub.status.busy": "2021-12-01T21:02:52.593721Z",
     "iopub.status.idle": "2021-12-01T21:02:52.605192Z",
     "shell.execute_reply": "2021-12-01T21:02:52.604098Z",
     "shell.execute_reply.started": "2021-12-01T21:02:52.594588Z"
    },
    "tags": []
   },
   "outputs": [
    {
     "name": "stdout",
     "output_type": "stream",
     "text": [
      "{'quote': 'The world as we have created it is a process of our thinking. It cannot be changed without changing our thinking.', 'author': 'Albert Einstein', 'keywords': ['change', 'deep-thoughts', 'thinking', 'world']} \n",
      "------------\n",
      "{'quote': 'It is our choices, Harry, that show what we truly are, far more than our abilities.', 'author': 'J.K. Rowling', 'keywords': ['abilities', 'choices']} \n",
      "------------\n",
      "{'quote': 'There are only two ways to live your life. One is as though nothing is a miracle. The other is as though everything is a miracle.', 'author': 'Albert Einstein', 'keywords': ['inspirational', 'life', 'live', 'miracle', 'miracles']} \n",
      "------------\n",
      "{'quote': 'The person, be it gentleman or lady, who has not pleasure in a good novel, must be intolerably stupid.', 'author': 'Jane Austen', 'keywords': ['aliteracy', 'books', 'classic', 'humor']} \n",
      "------------\n",
      "{'quote': \"Imperfection is beauty, madness is genius and it's better to be absolutely ridiculous than absolutely boring.\", 'author': 'Marilyn Monroe', 'keywords': ['be-yourself', 'inspirational']} \n",
      "------------\n",
      "{'quote': 'Try not to become a man of success. Rather become a man of value.', 'author': 'Albert Einstein', 'keywords': ['adulthood', 'success', 'value']} \n",
      "------------\n",
      "{'quote': 'It is better to be hated for what you are than to be loved for what you are not.', 'author': 'André Gide', 'keywords': ['life', 'love']} \n",
      "------------\n",
      "{'quote': \"I have not failed. I've just found 10,000 ways that won't work.\", 'author': 'Thomas A. Edison', 'keywords': ['edison', 'failure', 'inspirational', 'paraphrased']} \n",
      "------------\n",
      "{'quote': \"A woman is like a tea bag; you never know how strong it is until it's in hot water.\", 'author': 'Eleanor Roosevelt', 'keywords': ['misattributed-eleanor-roosevelt']} \n",
      "------------\n",
      "{'quote': 'A day without sunshine is like, you know, night.', 'author': 'Steve Martin', 'keywords': ['humor', 'obvious', 'simile']} \n",
      "------------\n"
     ]
    },
    {
     "data": {
      "text/plain": [
       "[None, None, None, None, None, None, None, None, None, None]"
      ]
     },
     "execution_count": 52,
     "metadata": {},
     "output_type": "execute_result"
    }
   ],
   "source": [
    "[print(quote, '\\n------------') for quote in get_quotes_info(tree)]"
   ]
  },
  {
   "cell_type": "code",
   "execution_count": 56,
   "id": "d30d3532-7ab8-4058-89e6-dd06a22f25ea",
   "metadata": {
    "execution": {
     "iopub.execute_input": "2021-12-01T21:13:51.796025Z",
     "iopub.status.busy": "2021-12-01T21:13:51.795385Z",
     "iopub.status.idle": "2021-12-01T21:13:51.800873Z",
     "shell.execute_reply": "2021-12-01T21:13:51.799719Z",
     "shell.execute_reply.started": "2021-12-01T21:13:51.795983Z"
    },
    "tags": []
   },
   "outputs": [],
   "source": [
    "def get_all_quotes_to_page(last_page=10):\n",
    "    all_quotes_info = []\n",
    "    for page in range(1,last_page+1):\n",
    "        url = f'https://quotes.toscrape.com/page/{page}/'\n",
    "        response = requests.get(url, headers=headers)\n",
    "        if response.status_code != 200:\n",
    "            sleep(2)\n",
    "            continue\n",
    "        tree = etree.HTML(response.content)\n",
    "        all_quotes_info.extend(get_quotes_info(tree))\n",
    "        sleep(random.randrange(100, 200)/1000)\n",
    "    return all_quotes_info"
   ]
  },
  {
   "cell_type": "code",
   "execution_count": null,
   "id": "54c14d29-59fd-45b7-a167-39a668719dfb",
   "metadata": {
    "execution": {
     "iopub.execute_input": "2021-12-01T21:13:52.382557Z",
     "iopub.status.busy": "2021-12-01T21:13:52.382379Z"
    },
    "tags": []
   },
   "outputs": [],
   "source": [
    "quotes = get_all_quotes_to_page(10)"
   ]
  },
  {
   "cell_type": "code",
   "execution_count": 67,
   "id": "bb5e5b18-1caa-426a-be05-9dd9db28a020",
   "metadata": {
    "execution": {
     "iopub.execute_input": "2021-12-01T21:28:10.005148Z",
     "iopub.status.busy": "2021-12-01T21:28:10.004586Z",
     "iopub.status.idle": "2021-12-01T21:28:10.008467Z",
     "shell.execute_reply": "2021-12-01T21:28:10.007684Z",
     "shell.execute_reply.started": "2021-12-01T21:28:10.005126Z"
    },
    "tags": []
   },
   "outputs": [],
   "source": [
    "a = zip([1,2,3],['a','b','c'])"
   ]
  },
  {
   "cell_type": "code",
   "execution_count": 71,
   "id": "26583ebf-f73d-4282-aadc-4fcb74d78c3e",
   "metadata": {
    "execution": {
     "iopub.execute_input": "2021-12-01T21:29:29.924434Z",
     "iopub.status.busy": "2021-12-01T21:29:29.924246Z",
     "iopub.status.idle": "2021-12-01T21:29:29.928132Z",
     "shell.execute_reply": "2021-12-01T21:29:29.927098Z",
     "shell.execute_reply.started": "2021-12-01T21:29:29.924418Z"
    },
    "tags": []
   },
   "outputs": [],
   "source": [
    "def inf_func():\n",
    "    count = 0\n",
    "    while True:\n",
    "        yield count\n",
    "        count +=1"
   ]
  },
  {
   "cell_type": "code",
   "execution_count": 72,
   "id": "4afd4247-38ba-4e0d-8a82-cf6d446a6963",
   "metadata": {
    "execution": {
     "iopub.execute_input": "2021-12-01T21:29:30.149680Z",
     "iopub.status.busy": "2021-12-01T21:29:30.149449Z",
     "iopub.status.idle": "2021-12-01T21:29:30.153801Z",
     "shell.execute_reply": "2021-12-01T21:29:30.152811Z",
     "shell.execute_reply.started": "2021-12-01T21:29:30.149661Z"
    },
    "tags": []
   },
   "outputs": [],
   "source": [
    "a = inf_func()"
   ]
  },
  {
   "cell_type": "code",
   "execution_count": 114,
   "id": "7ce7e23f-5768-4576-aa97-e3ae7a3687cc",
   "metadata": {
    "execution": {
     "iopub.execute_input": "2021-12-01T21:29:46.076108Z",
     "iopub.status.busy": "2021-12-01T21:29:46.075658Z",
     "iopub.status.idle": "2021-12-01T21:29:46.080115Z",
     "shell.execute_reply": "2021-12-01T21:29:46.079279Z",
     "shell.execute_reply.started": "2021-12-01T21:29:46.076088Z"
    },
    "tags": []
   },
   "outputs": [
    {
     "data": {
      "text/plain": [
       "41"
      ]
     },
     "execution_count": 114,
     "metadata": {},
     "output_type": "execute_result"
    }
   ],
   "source": [
    "next(a)"
   ]
  },
  {
   "cell_type": "code",
   "execution_count": null,
   "id": "c3ea2269-3ce8-4266-ad16-d6b5da5faf67",
   "metadata": {},
   "outputs": [],
   "source": []
  },
  {
   "cell_type": "markdown",
   "id": "9b5887c4-d0d1-4444-bdd5-aab8554a0028",
   "metadata": {},
   "source": [
    "scrap do site https://quotes.toscrape.com//tableful"
   ]
  }
 ],
 "metadata": {
  "kernelspec": {
   "display_name": "Python [conda env:projetos]",
   "language": "python",
   "name": "conda-env-projetos-py"
  },
  "language_info": {
   "codemirror_mode": {
    "name": "ipython",
    "version": 3
   },
   "file_extension": ".py",
   "mimetype": "text/x-python",
   "name": "python",
   "nbconvert_exporter": "python",
   "pygments_lexer": "ipython3",
   "version": "3.9.7"
  }
 },
 "nbformat": 4,
 "nbformat_minor": 5
}
